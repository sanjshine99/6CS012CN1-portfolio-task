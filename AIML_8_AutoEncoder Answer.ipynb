{
  "cells": [
    {
      "cell_type": "code",
      "execution_count": null,
      "metadata": {
        "id": "FdSamUSjg7gb"
      },
      "outputs": [],
      "source": [
        "from keras.datasets import mnist\n",
        "import numpy as np\n",
        "import keras\n",
        "import tensorflow as tf\n",
        "from keras.layers import Conv2D, MaxPooling2D, UpSampling2D, Reshape, Flatten, Dense\n"
      ]
    },
    {
      "cell_type": "code",
      "source": [
        "(x_train, _), (x_test, _) = mnist.load_data()\n",
        "\n",
        "x_train = x_train.astype('float32') / 255.\n",
        "x_test = x_test.astype('float32') / 255.\n",
        "x_train = np.reshape(x_train, (len(x_train), 28, 28, 1))\n",
        "x_test = np.reshape(x_test, (len(x_test), 28, 28, 1))"
      ],
      "metadata": {
        "colab": {
          "base_uri": "https://localhost:8080/"
        },
        "id": "W3AaBX0_XuEM",
        "outputId": "c46d4c66-f614-4aa6-d113-4e8897eb59c9"
      },
      "execution_count": null,
      "outputs": [
        {
          "output_type": "stream",
          "name": "stdout",
          "text": [
            "Downloading data from https://storage.googleapis.com/tensorflow/tf-keras-datasets/mnist.npz\n",
            "11490434/11490434 [==============================] - 0s 0us/step\n"
          ]
        }
      ]
    },
    {
      "cell_type": "code",
      "execution_count": null,
      "metadata": {
        "id": "xtAomiMyg2zk"
      },
      "outputs": [],
      "source": [
        "\n",
        "\n",
        "input_img = keras.Input(shape=(28, 28, 1))\n",
        "\n",
        "x = Conv2D(16, (3, 3), activation='relu', padding='same')(input_img)\n",
        "x = MaxPooling2D((2, 2), padding='same')(x)\n",
        "x = Conv2D(8, (3, 3), activation='relu', padding='same')(x)\n",
        "x = MaxPooling2D((2, 2), padding='same')(x)\n",
        "x = Conv2D(8, (3, 3), activation='relu', padding='same')(x)\n",
        "encoded = MaxPooling2D((2, 2), padding='same')(x)\n",
        "# flatten\n",
        "# dense\n",
        "# reshape\n",
        "\n",
        "# at this point the representation is (4, 4, 8) i.e. 128-dimensional\n",
        "\n",
        "x = Conv2D(8, (3, 3), activation='relu', padding='same')(encoded)\n",
        "x = UpSampling2D((2, 2))(x)\n",
        "x = Conv2D(8, (3, 3), activation='relu', padding='same')(x)\n",
        "x = UpSampling2D((2, 2))(x)\n",
        "x = Conv2D(16, (3, 3), activation='relu')(x)\n",
        "x = UpSampling2D((2, 2))(x)\n",
        "decoded = Conv2D(1, (3, 3), activation='sigmoid', padding='same')(x)\n",
        "\n"
      ]
    },
    {
      "cell_type": "code",
      "source": [
        "autoencoder = keras.Model(input_img, decoded)\n",
        "autoencoder.compile(optimizer='adam', loss='binary_crossentropy')"
      ],
      "metadata": {
        "id": "l1TlEugkYaZn"
      },
      "execution_count": null,
      "outputs": []
    },
    {
      "cell_type": "code",
      "source": [
        "autoencoder.summary()"
      ],
      "metadata": {
        "colab": {
          "base_uri": "https://localhost:8080/"
        },
        "id": "h-eUmZUY6dTJ",
        "outputId": "70baad7b-1e73-4ddd-a80a-b587d4e2d4b2"
      },
      "execution_count": null,
      "outputs": [
        {
          "output_type": "stream",
          "name": "stdout",
          "text": [
            "Model: \"model\"\n",
            "_________________________________________________________________\n",
            " Layer (type)                Output Shape              Param #   \n",
            "=================================================================\n",
            " input_1 (InputLayer)        [(None, 28, 28, 1)]       0         \n",
            "                                                                 \n",
            " conv2d (Conv2D)             (None, 28, 28, 16)        160       \n",
            "                                                                 \n",
            " max_pooling2d (MaxPooling2  (None, 14, 14, 16)        0         \n",
            " D)                                                              \n",
            "                                                                 \n",
            " conv2d_1 (Conv2D)           (None, 14, 14, 8)         1160      \n",
            "                                                                 \n",
            " max_pooling2d_1 (MaxPoolin  (None, 7, 7, 8)           0         \n",
            " g2D)                                                            \n",
            "                                                                 \n",
            " conv2d_2 (Conv2D)           (None, 7, 7, 8)           584       \n",
            "                                                                 \n",
            " max_pooling2d_2 (MaxPoolin  (None, 4, 4, 8)           0         \n",
            " g2D)                                                            \n",
            "                                                                 \n",
            " conv2d_3 (Conv2D)           (None, 4, 4, 8)           584       \n",
            "                                                                 \n",
            " up_sampling2d (UpSampling2  (None, 8, 8, 8)           0         \n",
            " D)                                                              \n",
            "                                                                 \n",
            " conv2d_4 (Conv2D)           (None, 8, 8, 8)           584       \n",
            "                                                                 \n",
            " up_sampling2d_1 (UpSamplin  (None, 16, 16, 8)         0         \n",
            " g2D)                                                            \n",
            "                                                                 \n",
            " conv2d_5 (Conv2D)           (None, 14, 14, 16)        1168      \n",
            "                                                                 \n",
            " up_sampling2d_2 (UpSamplin  (None, 28, 28, 16)        0         \n",
            " g2D)                                                            \n",
            "                                                                 \n",
            " conv2d_6 (Conv2D)           (None, 28, 28, 1)         145       \n",
            "                                                                 \n",
            "=================================================================\n",
            "Total params: 4385 (17.13 KB)\n",
            "Trainable params: 4385 (17.13 KB)\n",
            "Non-trainable params: 0 (0.00 Byte)\n",
            "_________________________________________________________________\n"
          ]
        }
      ]
    },
    {
      "cell_type": "code",
      "execution_count": null,
      "metadata": {
        "colab": {
          "base_uri": "https://localhost:8080/"
        },
        "id": "tofCrdUPhEy5",
        "outputId": "9a7bbd08-c833-4d62-ffd6-fd3413c50d8e"
      },
      "outputs": [
        {
          "output_type": "stream",
          "name": "stdout",
          "text": [
            "Epoch 1/5\n",
            "469/469 [==============================] - 78s 161ms/step - loss: 0.2272 - val_loss: 0.1523\n",
            "Epoch 2/5\n",
            "469/469 [==============================] - 74s 158ms/step - loss: 0.1412 - val_loss: 0.1311\n",
            "Epoch 3/5\n",
            "469/469 [==============================] - 73s 156ms/step - loss: 0.1266 - val_loss: 0.1211\n",
            "Epoch 4/5\n",
            "469/469 [==============================] - 70s 150ms/step - loss: 0.1193 - val_loss: 0.1157\n",
            "Epoch 5/5\n",
            "469/469 [==============================] - 70s 150ms/step - loss: 0.1151 - val_loss: 0.1121\n"
          ]
        },
        {
          "output_type": "execute_result",
          "data": {
            "text/plain": [
              "<keras.src.callbacks.History at 0x7d3f0cd271c0>"
            ]
          },
          "metadata": {},
          "execution_count": 6
        }
      ],
      "source": [
        "autoencoder.fit(x_train, x_train,\n",
        "                epochs=5,\n",
        "                batch_size=128,\n",
        "                shuffle=True,\n",
        "                validation_data=(x_test, x_test))"
      ]
    },
    {
      "cell_type": "code",
      "execution_count": null,
      "metadata": {
        "colab": {
          "base_uri": "https://localhost:8080/",
          "height": 167
        },
        "id": "DhcoyrQhhHsr",
        "outputId": "a3121f9f-64e9-4537-b616-664f354f32b2"
      },
      "outputs": [
        {
          "output_type": "stream",
          "name": "stdout",
          "text": [
            "313/313 [==============================] - 4s 13ms/step\n"
          ]
        },
        {
          "output_type": "display_data",
          "data": {
            "text/plain": [
              "<Figure size 2000x400 with 20 Axes>"
            ],
            "image/png": "[encoded data removed]"
          },
          "metadata": {}
        }
      ],
      "source": [
        "import matplotlib.pyplot as plt\n",
        "decoded_imgs = autoencoder.predict(x_test)\n",
        "\n",
        "n = 10\n",
        "plt.figure(figsize=(20, 4))\n",
        "for i in range(1, n + 1):\n",
        "    # Display original\n",
        "    ax = plt.subplot(2, n, i)\n",
        "    plt.imshow(x_test[i].reshape(28, 28))\n",
        "    plt.gray()\n",
        "    ax.tick_params(labelbottom=False)\n",
        "    ax.tick_params(labelleft=False)\n",
        "\n",
        "    # Display reconstruction\n",
        "    ax = plt.subplot(2, n, i + n)\n",
        "    plt.imshow(decoded_imgs[i].reshape(28, 28))\n",
        "    plt.gray()\n",
        "    ax.tick_params(labelbottom=False)\n",
        "    ax.tick_params(labelleft=False)\n",
        "plt.show()"
      ]
    },
    {
      "cell_type": "code",
      "execution_count": null,
      "metadata": {
        "colab": {
          "base_uri": "https://localhost:8080/"
        },
        "id": "RprY27xPi1JH",
        "outputId": "0f111282-8ac8-464f-e737-d542f6d5dcc2"
      },
      "outputs": [
        {
          "output_type": "stream",
          "name": "stdout",
          "text": [
            "Compression:  0.8333333333333334\n"
          ]
        }
      ],
      "source": [
        "print(\"Compression: \",(768-128)/768)"
      ]
    },
    {
      "cell_type": "markdown",
      "source": [
        "# How you can save model /AE folder"
      ],
      "metadata": {
        "id": "JzMXxo2KAP6d"
      }
    },
    {
      "cell_type": "code",
      "execution_count": null,
      "metadata": {
        "id": "46FYn4C8i-t_",
        "colab": {
          "base_uri": "https://localhost:8080/"
        },
        "outputId": "7c96a33d-4f9b-4022-d35f-42529d8d12ce"
      },
      "outputs": [
        {
          "output_type": "stream",
          "name": "stdout",
          "text": [
            "Epoch 1/50\n",
            "1200/1200 [==============================] - 80s 67ms/step - loss: 0.1114 - val_loss: 0.1097\n",
            "Epoch 2/50\n",
            "1200/1200 [==============================] - 83s 69ms/step - loss: 0.1078 - val_loss: 0.1059\n",
            "Epoch 3/50\n",
            "1200/1200 [==============================] - 83s 69ms/step - loss: 0.1055 - val_loss: 0.1037\n",
            "Epoch 4/50\n",
            "1200/1200 [==============================] - 82s 68ms/step - loss: 0.1037 - val_loss: 0.1018\n",
            "Epoch 5/50\n",
            "1200/1200 [==============================] - 79s 66ms/step - loss: 0.1022 - val_loss: 0.1002\n",
            "Epoch 6/50\n",
            "1200/1200 [==============================] - 85s 70ms/step - loss: 0.1010 - val_loss: 0.0990\n",
            "Epoch 7/50\n",
            "1200/1200 [==============================] - 84s 70ms/step - loss: 0.0998 - val_loss: 0.0986\n",
            "Epoch 8/50\n",
            "1200/1200 [==============================] - 82s 69ms/step - loss: 0.0989 - val_loss: 0.0970\n",
            "Epoch 9/50\n",
            "1200/1200 [==============================] - 81s 68ms/step - loss: 0.0979 - val_loss: 0.0964\n",
            "Epoch 10/50\n",
            "1200/1200 [==============================] - 82s 68ms/step - loss: 0.0971 - val_loss: 0.0956\n",
            "Epoch 11/50\n",
            "1200/1200 [==============================] - 83s 69ms/step - loss: 0.0964 - val_loss: 0.0951\n",
            "Epoch 12/50\n",
            "1200/1200 [==============================] - 84s 70ms/step - loss: 0.0957 - val_loss: 0.0946\n",
            "Epoch 13/50\n",
            "1200/1200 [==============================] - 85s 70ms/step - loss: 0.0952 - val_loss: 0.0937\n",
            "Epoch 14/50\n",
            "1200/1200 [==============================] - 84s 70ms/step - loss: 0.0946 - val_loss: 0.0931\n",
            "Epoch 15/50\n",
            "1200/1200 [==============================] - 83s 69ms/step - loss: 0.0942 - val_loss: 0.0927\n",
            "Epoch 16/50\n",
            "1200/1200 [==============================] - 83s 69ms/step - loss: 0.0937 - val_loss: 0.0927\n",
            "Epoch 17/50\n",
            "1200/1200 [==============================] - 83s 69ms/step - loss: 0.0934 - val_loss: 0.0921\n",
            "Epoch 18/50\n",
            "1200/1200 [==============================] - 81s 67ms/step - loss: 0.0930 - val_loss: 0.0917\n",
            "Epoch 19/50\n",
            "1200/1200 [==============================] - 84s 70ms/step - loss: 0.0926 - val_loss: 0.0917\n",
            "Epoch 20/50\n",
            "1200/1200 [==============================] - 85s 71ms/step - loss: 0.0923 - val_loss: 0.0911\n",
            "Epoch 21/50\n",
            "1200/1200 [==============================] - 82s 69ms/step - loss: 0.0920 - val_loss: 0.0911\n",
            "Epoch 22/50\n",
            "1200/1200 [==============================] - 82s 69ms/step - loss: 0.0918 - val_loss: 0.0912\n",
            "Epoch 23/50\n",
            "1200/1200 [==============================] - 84s 70ms/step - loss: 0.0915 - val_loss: 0.0903\n",
            "Epoch 24/50\n",
            "1200/1200 [==============================] - 82s 68ms/step - loss: 0.0913 - val_loss: 0.0901\n",
            "Epoch 25/50\n",
            "1200/1200 [==============================] - 83s 69ms/step - loss: 0.0911 - val_loss: 0.0898\n",
            "Epoch 26/50\n",
            "1200/1200 [==============================] - 77s 64ms/step - loss: 0.0908 - val_loss: 0.0895\n",
            "Epoch 27/50\n",
            "1200/1200 [==============================] - 73s 60ms/step - loss: 0.0907 - val_loss: 0.0893\n",
            "Epoch 28/50\n",
            "1200/1200 [==============================] - 72s 60ms/step - loss: 0.0905 - val_loss: 0.0896\n",
            "Epoch 29/50\n",
            "1200/1200 [==============================] - 75s 62ms/step - loss: 0.0903 - val_loss: 0.0893\n",
            "Epoch 30/50\n",
            "1200/1200 [==============================] - 73s 61ms/step - loss: 0.0902 - val_loss: 0.0894\n",
            "Epoch 31/50\n",
            "1200/1200 [==============================] - 72s 60ms/step - loss: 0.0901 - val_loss: 0.0894\n",
            "Epoch 32/50\n",
            "1200/1200 [==============================] - 73s 61ms/step - loss: 0.0899 - val_loss: 0.0890\n",
            "Epoch 33/50\n",
            "1200/1200 [==============================] - 73s 61ms/step - loss: 0.0898 - val_loss: 0.0887\n",
            "Epoch 34/50\n",
            "1200/1200 [==============================] - 74s 62ms/step - loss: 0.0897 - val_loss: 0.0887\n",
            "Epoch 35/50\n",
            "1200/1200 [==============================] - 72s 60ms/step - loss: 0.0896 - val_loss: 0.0882\n",
            "Epoch 36/50\n",
            "1200/1200 [==============================] - 73s 61ms/step - loss: 0.0895 - val_loss: 0.0882\n",
            "Epoch 37/50\n",
            "1200/1200 [==============================] - 72s 60ms/step - loss: 0.0894 - val_loss: 0.0880\n",
            "Epoch 38/50\n",
            "1200/1200 [==============================] - 72s 60ms/step - loss: 0.0893 - val_loss: 0.0881\n",
            "Epoch 39/50\n",
            "1200/1200 [==============================] - 72s 60ms/step - loss: 0.0892 - val_loss: 0.0878\n",
            "Epoch 40/50\n",
            "1200/1200 [==============================] - 74s 62ms/step - loss: 0.0891 - val_loss: 0.0884\n",
            "Epoch 41/50\n",
            "1200/1200 [==============================] - 81s 67ms/step - loss: 0.0890 - val_loss: 0.0877\n",
            "Epoch 42/50\n",
            "1200/1200 [==============================] - 81s 67ms/step - loss: 0.0889 - val_loss: 0.0878\n",
            "Epoch 43/50\n",
            "1200/1200 [==============================] - 82s 69ms/step - loss: 0.0888 - val_loss: 0.0876\n",
            "Epoch 44/50\n",
            "1200/1200 [==============================] - 80s 67ms/step - loss: 0.0887 - val_loss: 0.0876\n",
            "Epoch 45/50\n",
            "1200/1200 [==============================] - 75s 62ms/step - loss: 0.0886 - val_loss: 0.0876\n",
            "Epoch 46/50\n",
            "1200/1200 [==============================] - 74s 62ms/step - loss: 0.0886 - val_loss: 0.0877\n",
            "Epoch 47/50\n",
            "1200/1200 [==============================] - 74s 61ms/step - loss: 0.0885 - val_loss: 0.0873\n",
            "Epoch 48/50\n",
            "1200/1200 [==============================] - 72s 60ms/step - loss: 0.0884 - val_loss: 0.0872\n",
            "Epoch 49/50\n",
            "1200/1200 [==============================] - 74s 62ms/step - loss: 0.0883 - val_loss: 0.0871\n",
            "Epoch 50/50\n",
            "1200/1200 [==============================] - 73s 61ms/step - loss: 0.0882 - val_loss: 0.0875\n"
          ]
        },
        {
          "output_type": "execute_result",
          "data": {
            "text/plain": [
              "<keras.src.callbacks.History at 0x7d3eecd8e410>"
            ]
          },
          "metadata": {},
          "execution_count": 11
        }
      ],
      "source": [
        "import pickle\n",
        "model_save = tf.keras.callbacks.ModelCheckpoint('./AE', monitor='val_loss', verbose=0, save_best_only=False)\n",
        "\n",
        "autoencoder.fit(x_train, x_train,\n",
        "                epochs=50,\n",
        "                batch_size=50,\n",
        "                shuffle=True,\n",
        "                verbose=1,\n",
        "                validation_data=(x_test, x_test),\n",
        "                callbacks=[model_save])\n",
        "\n",
        "\n"
      ]
    },
    {
      "cell_type": "markdown",
      "source": [
        "# Load model"
      ],
      "metadata": {
        "id": "OXUPLigYAVjc"
      }
    },
    {
      "cell_type": "code",
      "source": [
        "ae = keras.models.load_model('./AE')"
      ],
      "metadata": {
        "id": "AZJOlk3-_tSo"
      },
      "execution_count": null,
      "outputs": []
    },
    {
      "cell_type": "markdown",
      "source": [
        "# Partial Model"
      ],
      "metadata": {
        "id": "AwiKbe6bAYCb"
      }
    },
    {
      "cell_type": "code",
      "source": [
        "# use model summary to\n",
        "partial_model = keras.Model(ae.input, ae.layers[8].output)\n",
        "encodings = partial_model.predict(x_test)"
      ],
      "metadata": {
        "id": "kkjWfDvr_tnE",
        "colab": {
          "base_uri": "https://localhost:8080/"
        },
        "outputId": "307efcd5-1284-43ec-d98e-dd65f83bddc4"
      },
      "execution_count": null,
      "outputs": [
        {
          "output_type": "stream",
          "name": "stdout",
          "text": [
            "313/313 [==============================] - 5s 15ms/step\n"
          ]
        }
      ]
    },
    {
      "cell_type": "code",
      "source": [
        "encodings.shape"
      ],
      "metadata": {
        "id": "8aXQsARUADsg",
        "colab": {
          "base_uri": "https://localhost:8080/"
        },
        "outputId": "ed410d4b-d37e-42bb-ef8b-0c94487f5bd6"
      },
      "execution_count": null,
      "outputs": [
        {
          "output_type": "execute_result",
          "data": {
            "text/plain": [
              "(10000, 8, 8, 8)"
            ]
          },
          "metadata": {},
          "execution_count": 15
        }
      ]
    },
    {
      "cell_type": "code",
      "source": [
        "with open('./data/visual_encodings_50.pickle', 'wb') as file:\n",
        "    pickle.dump(encodings, file)"
      ],
      "metadata": {
        "id": "XWG0nJ_QAF7y"
      },
      "execution_count": null,
      "outputs": []
    },
    {
      "cell_type": "markdown",
      "source": [
        "# Workshop 9"
      ],
      "metadata": {
        "id": "Qn7MJ6rDFh4t"
      }
    },
    {
      "cell_type": "markdown",
      "source": [
        "## Task 1"
      ],
      "metadata": {
        "id": "01ZA1WhTFk7Q"
      }
    },
    {
      "cell_type": "code",
      "source": [
        "from keras.datasets import mnist\n",
        "import numpy as np\n",
        "import keras\n",
        "from keras.layers import Conv2D, MaxPooling2D, UpSampling2D, Reshape, Flatten, Dense\n",
        "\n",
        "(x_train, _), (x_test, _) = mnist.load_data()\n",
        "\n",
        "x_train = x_train.astype('float32') / 255.\n",
        "x_test = x_test.astype('float32') / 255.\n",
        "x_train = np.reshape(x_train, (len(x_train), 28, 28, 1))\n",
        "x_test = np.reshape(x_test, (len(x_test), 28, 28, 1))\n",
        "\n",
        "\n",
        "\n",
        "input_img = keras.Input(shape=(28, 28, 1))\n",
        "\n",
        "x = Conv2D(16, (3, 3), activation='relu', padding='same')(input_img)\n",
        "x = MaxPooling2D((2, 2), padding='same')(x)\n",
        "x = Conv2D(8, (3, 3), activation='relu', padding='same')(x)\n",
        "x = MaxPooling2D((2, 2), padding='same')(x)\n",
        "x = Conv2D(8, (3, 3), activation='relu', padding='same')(x)\n",
        "encoded = MaxPooling2D((2, 2), padding='same')(x)\n",
        "# flatten\n",
        "# dense\n",
        "# reshape\n",
        "\n",
        "# at this point the representation is (4, 4, 8) i.e. 128-dimensional\n",
        "\n",
        "x = Conv2D(8, (3, 3), activation='relu', padding='same')(encoded)\n",
        "x = UpSampling2D((2, 2))(x)\n",
        "x = Conv2D(8, (3, 3), activation='relu', padding='same')(x)\n",
        "x = UpSampling2D((2, 2))(x)\n",
        "x = Conv2D(16, (3, 3), activation='relu')(x)\n",
        "x = UpSampling2D((2, 2))(x)\n",
        "decoded = Conv2D(1, (3, 3), activation='sigmoid', padding='same')(x)\n",
        "\n",
        "autoencoder = keras.Model(input_img, decoded)\n",
        "autoencoder.compile(optimizer='adam', loss='binary_crossentropy')\n",
        "\n",
        "autoencoder.summary()\n",
        "\n",
        "autoencoder.fit(x_train, x_train,\n",
        "                epochs=5,\n",
        "                batch_size=128,\n",
        "                shuffle=True,\n",
        "                validation_data=(x_test, x_test))\n",
        "\n",
        "import matplotlib.pyplot as plt\n",
        "decoded_imgs = autoencoder.predict(x_test)\n",
        "\n",
        "n = 10\n",
        "plt.figure(figsize=(20, 4))\n",
        "for i in range(1, n + 1):\n",
        "    # Display original\n",
        "    ax = plt.subplot(2, n, i)\n",
        "    plt.imshow(x_test[i].reshape(28, 28))\n",
        "    plt.gray()\n",
        "    ax.tick_params(labelbottom=False)\n",
        "    ax.tick_params(labelleft=False)\n",
        "\n",
        "    # Display reconstruction\n",
        "    ax = plt.subplot(2, n, i + n)\n",
        "    plt.imshow(decoded_imgs[i].reshape(28, 28))\n",
        "    plt.gray()\n",
        "    ax.tick_params(labelbottom=False)\n",
        "    ax.tick_params(labelleft=False)\n",
        "plt.show()\n",
        "\n",
        "print(\"Compression: \",(768-128)/768)\n",
        "import pickle\n",
        "model_save = tf.keras.callbacks.ModelCheckpoint('./AE', monitor='val_loss', verbose=0, save_best_only=False)\n",
        "\n",
        "autoencoder.fit(x_train, x_train,\n",
        "                epochs=50,\n",
        "                batch_size=50,\n",
        "                shuffle=True,\n",
        "                verbose=1,\n",
        "                validation_data=(x_test, x_test),\n",
        "                callbacks=[model_save])\n",
        "\n",
        "\n",
        "ae = keras.models.load_model('./AE')\n",
        "# use model summary to\n",
        "partial_model = keras.Model(ae.input, ae.layers[8].output)\n",
        "encodings = partial_model.predict(x_train)\n",
        "\n",
        "encodings.shape\n",
        "\n",
        "with open('./data/visual_encodings_50.pickle', 'wb') as file:\n",
        "    pickle.dump(encodings, file)"
      ],
      "metadata": {
        "id": "l1LGJyvBFnlb"
      },
      "execution_count": null,
      "outputs": []
    },
    {
      "cell_type": "code",
      "source": [
        "from keras.models import load_model\n",
        "\n",
        "def build_autoencoder(hidden_neurons):\n",
        "    input_img = keras.Input(shape=(28, 28, 1))\n",
        "    x = Conv2D(16, (3, 3), activation='relu', padding='same')(input_img)\n",
        "    x = MaxPooling2D((2, 2), padding='same')(x)\n",
        "    x = Conv2D(8, (3, 3), activation='relu', padding='same')(x)\n",
        "    x = MaxPooling2D((2, 2), padding='same')(x)\n",
        "    x = Conv2D(8, (3, 3), activation='relu', padding='same')(x)\n",
        "    encoded = MaxPooling2D((2, 2), padding='same')(x)\n",
        "\n",
        "    x = Conv2D(8, (3, 3), activation='relu', padding='same')(encoded)\n",
        "    x = UpSampling2D((2, 2))(x)\n",
        "    x = Conv2D(8, (3, 3), activation='relu', padding='same')(x)\n",
        "    x = UpSampling2D((2, 2))(x)\n",
        "    x = Conv2D(16, (3, 3), activation='relu')(x)\n",
        "    x = UpSampling2D((2, 2))(x)\n",
        "    decoded = Conv2D(1, (3, 3), activation='sigmoid', padding='same')(x)\n",
        "\n",
        "    autoencoder = keras.Model(input_img, decoded)\n",
        "    autoencoder.compile(optimizer='adam', loss='binary_crossentropy')\n",
        "\n",
        "    return autoencoder\n",
        "\n",
        "# Build and train autoencoder with 20 hidden neurons\n",
        "autoencoder_20 = build_autoencoder(hidden_neurons=20)\n",
        "autoencoder_20.fit(x_train, x_train, epochs=5, batch_size=128, shuffle=True, validation_data=(x_test, x_test))\n",
        "\n",
        "# Build and train autoencoder with 87 hidden neurons\n",
        "autoencoder_87 = build_autoencoder(hidden_neurons=87)\n",
        "autoencoder_87.fit(x_train, x_train, epochs=5, batch_size=128, shuffle=True, validation_data=(x_test, x_test))\n",
        "\n",
        "# Visualize reconstructed images for both autoencoders\n",
        "decoded_imgs_20 = autoencoder_20.predict(x_test)\n",
        "decoded_imgs_87 = autoencoder_87.predict(x_test)\n",
        "\n",
        "# Compare results\n",
        "n = 10\n",
        "plt.figure(figsize=(20, 6))\n",
        "for i in range(1, n + 1):\n",
        "    # Display original\n",
        "    ax = plt.subplot(3, n, i)\n",
        "    plt.imshow(x_test[i].reshape(28, 28))\n",
        "    plt.gray()\n",
        "    ax.tick_params(labelbottom=False)\n",
        "    ax.tick_params(labelleft=False)\n",
        "\n",
        "    # Display reconstruction for 20 hidden neurons\n",
        "    ax = plt.subplot(3, n, i + n)\n",
        "    plt.imshow(decoded_imgs_20[i].reshape(28, 28))\n",
        "    plt.gray()\n",
        "    ax.tick_params(labelbottom=False)\n",
        "    ax.tick_params(labelleft=False)\n",
        "\n",
        "    # Display reconstruction for 87 hidden neurons\n",
        "    ax = plt.subplot(3, n, i + 2 * n)\n",
        "    plt.imshow(decoded_imgs_87[i].reshape(28, 28))\n",
        "    plt.gray()\n",
        "    ax.tick_params(labelbottom=False)\n",
        "    ax.tick_params(labelleft=False)\n",
        "\n",
        "plt.show()\n",
        "\n",
        "# Calculate compression ratios\n",
        "compression_20 = (768 - 20) / 768\n",
        "compression_87 = (768 - 87) / 768\n",
        "\n",
        "print(\"Compression ratio for 20 hidden neurons:\", compression_20)\n",
        "print(\"Compression ratio for 87 hidden neurons:\", compression_87)\n",
        "\n",
        "# Print model summaries to compare computational complexity\n",
        "autoencoder_20.summary()\n",
        "autoencoder_87.summary()"
      ],
      "metadata": {
        "colab": {
          "base_uri": "https://localhost:8080/",
          "height": 1000
        },
        "id": "JDN0v2gEI_3x",
        "outputId": "0982d886-8419-4025-a627-bb20bf43b1be"
      },
      "execution_count": null,
      "outputs": [
        {
          "output_type": "stream",
          "name": "stdout",
          "text": [
            "Epoch 1/5\n",
            "469/469 [==============================] - 5s 7ms/step - loss: 0.2050 - val_loss: 0.1440\n",
            "Epoch 2/5\n",
            "469/469 [==============================] - 3s 6ms/step - loss: 0.1346 - val_loss: 0.1250\n",
            "Epoch 3/5\n",
            "469/469 [==============================] - 4s 8ms/step - loss: 0.1217 - val_loss: 0.1169\n",
            "Epoch 4/5\n",
            "469/469 [==============================] - 3s 6ms/step - loss: 0.1156 - val_loss: 0.1124\n",
            "Epoch 5/5\n",
            "469/469 [==============================] - 3s 7ms/step - loss: 0.1118 - val_loss: 0.1089\n",
            "Epoch 1/5\n",
            "469/469 [==============================] - 6s 8ms/step - loss: 0.2227 - val_loss: 0.1431\n",
            "Epoch 2/5\n",
            "469/469 [==============================] - 3s 7ms/step - loss: 0.1333 - val_loss: 0.1253\n",
            "Epoch 3/5\n",
            "469/469 [==============================] - 3s 6ms/step - loss: 0.1229 - val_loss: 0.1183\n",
            "Epoch 4/5\n",
            "469/469 [==============================] - 3s 6ms/step - loss: 0.1173 - val_loss: 0.1141\n",
            "Epoch 5/5\n",
            "469/469 [==============================] - 4s 8ms/step - loss: 0.1134 - val_loss: 0.1111\n",
            "313/313 [==============================] - 1s 3ms/step\n",
            "313/313 [==============================] - 1s 2ms/step\n"
          ]
        },
        {
          "output_type": "display_data",
          "data": {
            "text/plain": [
              "<Figure size 2000x600 with 30 Axes>"
            ],
            "image/png": "[encoded data removed]"
          },
          "metadata": {}
        },
        {
          "output_type": "stream",
          "name": "stdout",
          "text": [
            "Compression ratio for 20 hidden neurons: 0.9739583333333334\n",
            "Compression ratio for 87 hidden neurons: 0.88671875\n",
            "Model: \"model_10\"\n",
            "_________________________________________________________________\n",
            " Layer (type)                Output Shape              Param #   \n",
            "=================================================================\n",
            " input_11 (InputLayer)       [(None, 28, 28, 1)]       0         \n",
            "                                                                 \n",
            " conv2d_66 (Conv2D)          (None, 28, 28, 16)        160       \n",
            "                                                                 \n",
            " max_pooling2d_28 (MaxPooli  (None, 14, 14, 16)        0         \n",
            " ng2D)                                                           \n",
            "                                                                 \n",
            " conv2d_67 (Conv2D)          (None, 14, 14, 8)         1160      \n",
            "                                                                 \n",
            " max_pooling2d_29 (MaxPooli  (None, 7, 7, 8)           0         \n",
            " ng2D)                                                           \n",
            "                                                                 \n",
            " conv2d_68 (Conv2D)          (None, 7, 7, 8)           584       \n",
            "                                                                 \n",
            " max_pooling2d_30 (MaxPooli  (None, 4, 4, 8)           0         \n",
            " ng2D)                                                           \n",
            "                                                                 \n",
            " conv2d_69 (Conv2D)          (None, 4, 4, 8)           584       \n",
            "                                                                 \n",
            " up_sampling2d_28 (UpSampli  (None, 8, 8, 8)           0         \n",
            " ng2D)                                                           \n",
            "                                                                 \n",
            " conv2d_70 (Conv2D)          (None, 8, 8, 8)           584       \n",
            "                                                                 \n",
            " up_sampling2d_29 (UpSampli  (None, 16, 16, 8)         0         \n",
            " ng2D)                                                           \n",
            "                                                                 \n",
            " conv2d_71 (Conv2D)          (None, 14, 14, 16)        1168      \n",
            "                                                                 \n",
            " up_sampling2d_30 (UpSampli  (None, 28, 28, 16)        0         \n",
            " ng2D)                                                           \n",
            "                                                                 \n",
            " conv2d_72 (Conv2D)          (None, 28, 28, 1)         145       \n",
            "                                                                 \n",
            "=================================================================\n",
            "Total params: 4385 (17.13 KB)\n",
            "Trainable params: 4385 (17.13 KB)\n",
            "Non-trainable params: 0 (0.00 Byte)\n",
            "_________________________________________________________________\n",
            "Model: \"model_11\"\n",
            "_________________________________________________________________\n",
            " Layer (type)                Output Shape              Param #   \n",
            "=================================================================\n",
            " input_12 (InputLayer)       [(None, 28, 28, 1)]       0         \n",
            "                                                                 \n",
            " conv2d_73 (Conv2D)          (None, 28, 28, 16)        160       \n",
            "                                                                 \n",
            " max_pooling2d_31 (MaxPooli  (None, 14, 14, 16)        0         \n",
            " ng2D)                                                           \n",
            "                                                                 \n",
            " conv2d_74 (Conv2D)          (None, 14, 14, 8)         1160      \n",
            "                                                                 \n",
            " max_pooling2d_32 (MaxPooli  (None, 7, 7, 8)           0         \n",
            " ng2D)                                                           \n",
            "                                                                 \n",
            " conv2d_75 (Conv2D)          (None, 7, 7, 8)           584       \n",
            "                                                                 \n",
            " max_pooling2d_33 (MaxPooli  (None, 4, 4, 8)           0         \n",
            " ng2D)                                                           \n",
            "                                                                 \n",
            " conv2d_76 (Conv2D)          (None, 4, 4, 8)           584       \n",
            "                                                                 \n",
            " up_sampling2d_31 (UpSampli  (None, 8, 8, 8)           0         \n",
            " ng2D)                                                           \n",
            "                                                                 \n",
            " conv2d_77 (Conv2D)          (None, 8, 8, 8)           584       \n",
            "                                                                 \n",
            " up_sampling2d_32 (UpSampli  (None, 16, 16, 8)         0         \n",
            " ng2D)                                                           \n",
            "                                                                 \n",
            " conv2d_78 (Conv2D)          (None, 14, 14, 16)        1168      \n",
            "                                                                 \n",
            " up_sampling2d_33 (UpSampli  (None, 28, 28, 16)        0         \n",
            " ng2D)                                                           \n",
            "                                                                 \n",
            " conv2d_79 (Conv2D)          (None, 28, 28, 1)         145       \n",
            "                                                                 \n",
            "=================================================================\n",
            "Total params: 4385 (17.13 KB)\n",
            "Trainable params: 4385 (17.13 KB)\n",
            "Non-trainable params: 0 (0.00 Byte)\n",
            "_________________________________________________________________\n"
          ]
        }
      ]
    },
    {
      "cell_type": "code",
      "source": [
        "import time\n",
        "\n",
        "# Measure training time for autoencoder with 20 hidden neurons\n",
        "start_time = time.time()\n",
        "autoencoder_20.fit(x_train, x_train, epochs=5, batch_size=128, shuffle=True, validation_data=(x_test, x_test))\n",
        "training_time_20 = time.time() - start_time\n",
        "\n",
        "# Measure training time for autoencoder with 87 hidden neurons\n",
        "start_time = time.time()\n",
        "autoencoder_87.fit(x_train, x_train, epochs=5, batch_size=128, shuffle=True, validation_data=(x_test, x_test))\n",
        "training_time_87 = time.time() - start_time\n",
        "\n",
        "# Measure inference time for autoencoder with 20 hidden neurons\n",
        "start_time = time.time()\n",
        "decoded_imgs_20 = autoencoder_20.predict(x_test)\n",
        "inference_time_20 = time.time() - start_time\n",
        "\n",
        "# Measure inference time for autoencoder with 87 hidden neurons\n",
        "start_time = time.time()\n",
        "decoded_imgs_87 = autoencoder_87.predict(x_test)\n",
        "inference_time_87 = time.time() - start_time\n",
        "\n",
        "# Print the results\n",
        "print(\"Training Time (20 Hidden Neurons):\", training_time_20)\n",
        "print(\"Training Time (87 Hidden Neurons):\", training_time_87)\n",
        "print(\"Inference Time (20 Hidden Neurons):\", inference_time_20)\n",
        "print(\"Inference Time (87 Hidden Neurons):\", inference_time_87)\n"
      ],
      "metadata": {
        "colab": {
          "base_uri": "https://localhost:8080/"
        },
        "id": "UnHQWDqWknpY",
        "outputId": "b87350a9-d750-489e-c233-3ab90d9d5cba"
      },
      "execution_count": null,
      "outputs": [
        {
          "output_type": "stream",
          "name": "stdout",
          "text": [
            "Epoch 1/5\n",
            "469/469 [==============================] - 5s 11ms/step - loss: 0.1088 - val_loss: 0.1070\n",
            "Epoch 2/5\n",
            "469/469 [==============================] - 3s 6ms/step - loss: 0.1065 - val_loss: 0.1044\n",
            "Epoch 3/5\n",
            "469/469 [==============================] - 3s 7ms/step - loss: 0.1046 - val_loss: 0.1029\n",
            "Epoch 4/5\n",
            "469/469 [==============================] - 3s 7ms/step - loss: 0.1031 - val_loss: 0.1016\n",
            "Epoch 5/5\n",
            "469/469 [==============================] - 3s 6ms/step - loss: 0.1019 - val_loss: 0.1003\n",
            "Epoch 1/5\n",
            "469/469 [==============================] - 3s 7ms/step - loss: 0.1107 - val_loss: 0.1082\n",
            "Epoch 2/5\n",
            "469/469 [==============================] - 3s 7ms/step - loss: 0.1082 - val_loss: 0.1068\n",
            "Epoch 3/5\n",
            "469/469 [==============================] - 3s 7ms/step - loss: 0.1064 - val_loss: 0.1047\n",
            "Epoch 4/5\n",
            "469/469 [==============================] - 3s 6ms/step - loss: 0.1049 - val_loss: 0.1032\n",
            "Epoch 5/5\n",
            "469/469 [==============================] - 3s 6ms/step - loss: 0.1036 - val_loss: 0.1023\n",
            "313/313 [==============================] - 1s 2ms/step\n",
            "313/313 [==============================] - 1s 2ms/step\n",
            "Training Time (20 Hidden Neurons): 19.216084003448486\n",
            "Training Time (87 Hidden Neurons): 16.398623943328857\n",
            "Inference Time (20 Hidden Neurons): 0.850710391998291\n",
            "Inference Time (87 Hidden Neurons): 1.3797011375427246\n"
          ]
        }
      ]
    },
    {
      "cell_type": "code",
      "source": [
        "# Print model summaries\n",
        "print(\"Autoencoder with 20 Hidden Neurons:\")\n",
        "autoencoder_20.summary()\n",
        "\n",
        "print(\"\\nAutoencoder with 87 Hidden Neurons:\")\n",
        "autoencoder_87.summary()"
      ],
      "metadata": {
        "id": "A8t2Fk4PlB8h",
        "outputId": "b4c7b419-039f-4919-94eb-9e706087ee0b",
        "colab": {
          "base_uri": "https://localhost:8080/"
        }
      },
      "execution_count": null,
      "outputs": [
        {
          "output_type": "stream",
          "name": "stdout",
          "text": [
            "Autoencoder with 20 Hidden Neurons:\n",
            "Model: \"model_10\"\n",
            "_________________________________________________________________\n",
            " Layer (type)                Output Shape              Param #   \n",
            "=================================================================\n",
            " input_11 (InputLayer)       [(None, 28, 28, 1)]       0         \n",
            "                                                                 \n",
            " conv2d_66 (Conv2D)          (None, 28, 28, 16)        160       \n",
            "                                                                 \n",
            " max_pooling2d_28 (MaxPooli  (None, 14, 14, 16)        0         \n",
            " ng2D)                                                           \n",
            "                                                                 \n",
            " conv2d_67 (Conv2D)          (None, 14, 14, 8)         1160      \n",
            "                                                                 \n",
            " max_pooling2d_29 (MaxPooli  (None, 7, 7, 8)           0         \n",
            " ng2D)                                                           \n",
            "                                                                 \n",
            " conv2d_68 (Conv2D)          (None, 7, 7, 8)           584       \n",
            "                                                                 \n",
            " max_pooling2d_30 (MaxPooli  (None, 4, 4, 8)           0         \n",
            " ng2D)                                                           \n",
            "                                                                 \n",
            " conv2d_69 (Conv2D)          (None, 4, 4, 8)           584       \n",
            "                                                                 \n",
            " up_sampling2d_28 (UpSampli  (None, 8, 8, 8)           0         \n",
            " ng2D)                                                           \n",
            "                                                                 \n",
            " conv2d_70 (Conv2D)          (None, 8, 8, 8)           584       \n",
            "                                                                 \n",
            " up_sampling2d_29 (UpSampli  (None, 16, 16, 8)         0         \n",
            " ng2D)                                                           \n",
            "                                                                 \n",
            " conv2d_71 (Conv2D)          (None, 14, 14, 16)        1168      \n",
            "                                                                 \n",
            " up_sampling2d_30 (UpSampli  (None, 28, 28, 16)        0         \n",
            " ng2D)                                                           \n",
            "                                                                 \n",
            " conv2d_72 (Conv2D)          (None, 28, 28, 1)         145       \n",
            "                                                                 \n",
            "=================================================================\n",
            "Total params: 4385 (17.13 KB)\n",
            "Trainable params: 4385 (17.13 KB)\n",
            "Non-trainable params: 0 (0.00 Byte)\n",
            "_________________________________________________________________\n",
            "\n",
            "Autoencoder with 87 Hidden Neurons:\n",
            "Model: \"model_11\"\n",
            "_________________________________________________________________\n",
            " Layer (type)                Output Shape              Param #   \n",
            "=================================================================\n",
            " input_12 (InputLayer)       [(None, 28, 28, 1)]       0         \n",
            "                                                                 \n",
            " conv2d_73 (Conv2D)          (None, 28, 28, 16)        160       \n",
            "                                                                 \n",
            " max_pooling2d_31 (MaxPooli  (None, 14, 14, 16)        0         \n",
            " ng2D)                                                           \n",
            "                                                                 \n",
            " conv2d_74 (Conv2D)          (None, 14, 14, 8)         1160      \n",
            "                                                                 \n",
            " max_pooling2d_32 (MaxPooli  (None, 7, 7, 8)           0         \n",
            " ng2D)                                                           \n",
            "                                                                 \n",
            " conv2d_75 (Conv2D)          (None, 7, 7, 8)           584       \n",
            "                                                                 \n",
            " max_pooling2d_33 (MaxPooli  (None, 4, 4, 8)           0         \n",
            " ng2D)                                                           \n",
            "                                                                 \n",
            " conv2d_76 (Conv2D)          (None, 4, 4, 8)           584       \n",
            "                                                                 \n",
            " up_sampling2d_31 (UpSampli  (None, 8, 8, 8)           0         \n",
            " ng2D)                                                           \n",
            "                                                                 \n",
            " conv2d_77 (Conv2D)          (None, 8, 8, 8)           584       \n",
            "                                                                 \n",
            " up_sampling2d_32 (UpSampli  (None, 16, 16, 8)         0         \n",
            " ng2D)                                                           \n",
            "                                                                 \n",
            " conv2d_78 (Conv2D)          (None, 14, 14, 16)        1168      \n",
            "                                                                 \n",
            " up_sampling2d_33 (UpSampli  (None, 28, 28, 16)        0         \n",
            " ng2D)                                                           \n",
            "                                                                 \n",
            " conv2d_79 (Conv2D)          (None, 28, 28, 1)         145       \n",
            "                                                                 \n",
            "=================================================================\n",
            "Total params: 4385 (17.13 KB)\n",
            "Trainable params: 4385 (17.13 KB)\n",
            "Non-trainable params: 0 (0.00 Byte)\n",
            "_________________________________________________________________\n"
          ]
        }
      ]
    }
  ],
  "metadata": {
    "accelerator": "GPU",
    "colab": {
      "provenance": []
    },
    "gpuClass": "standard",
    "kernelspec": {
      "display_name": "Python 3",
      "name": "python3"
    },
    "language_info": {
      "name": "python"
    }
  },
  "nbformat": 4,
  "nbformat_minor": 0
}